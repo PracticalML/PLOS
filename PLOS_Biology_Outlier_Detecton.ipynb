{
 "metadata": {
  "name": ""
 },
 "nbformat": 3,
 "nbformat_minor": 0,
 "worksheets": [
  {
   "cells": [
    {
     "cell_type": "code",
     "collapsed": false,
     "input": [
      "%matplotlib inline\n",
      "%autosave 10"
     ],
     "language": "python",
     "metadata": {},
     "outputs": [
      {
       "javascript": [
        "IPython.notebook.set_autosave_interval(10000)"
       ],
       "metadata": {},
       "output_type": "display_data"
      },
      {
       "output_type": "stream",
       "stream": "stdout",
       "text": [
        "Autosaving every 10 seconds\n"
       ]
      }
     ],
     "prompt_number": 1
    },
    {
     "cell_type": "code",
     "collapsed": false,
     "input": [
      "import gensim\n",
      "import cPickle as pickle\n",
      "from sklearn import *\n",
      "import numpy\n",
      "from matplotlib import pyplot"
     ],
     "language": "python",
     "metadata": {},
     "outputs": [
      {
       "output_type": "stream",
       "stream": "stderr",
       "text": [
        "/usr/lib64/python2.7/site-packages/sklearn/pls.py:7: DeprecationWarning: This module has been moved to cross_decomposition and will be removed in 0.16\n",
        "  \"removed in 0.16\", DeprecationWarning)\n"
       ]
      }
     ],
     "prompt_number": 2
    },
    {
     "cell_type": "code",
     "collapsed": false,
     "input": [
      "articles = pickle.load(open('data/plos_biology_articles_unfurled.list','r'))"
     ],
     "language": "python",
     "metadata": {},
     "outputs": [],
     "prompt_number": 3
    },
    {
     "cell_type": "code",
     "collapsed": false,
     "input": [
      "dois = pickle.load(open('data/plos_biology_dois.list','r'))"
     ],
     "language": "python",
     "metadata": {},
     "outputs": [],
     "prompt_number": 4
    },
    {
     "cell_type": "code",
     "collapsed": false,
     "input": [
      "articles[0][:10]"
     ],
     "language": "python",
     "metadata": {},
     "outputs": [
      {
       "metadata": {},
       "output_type": "pyout",
       "prompt_number": 5,
       "text": [
        "['introduction',\n",
        " 'during',\n",
        " '1980s',\n",
        " '1990s',\n",
        " 'methods',\n",
        " 'molecular',\n",
        " 'genetics',\n",
        " 'used',\n",
        " 'determine',\n",
        " 'contributions']"
       ]
      }
     ],
     "prompt_number": 5
    },
    {
     "cell_type": "code",
     "collapsed": false,
     "input": [
      "dois[0]"
     ],
     "language": "python",
     "metadata": {},
     "outputs": [
      {
       "metadata": {},
       "output_type": "pyout",
       "prompt_number": 6,
       "text": [
        "'10.1371/journal.pbio.1000584'"
       ]
      }
     ],
     "prompt_number": 6
    },
    {
     "cell_type": "markdown",
     "metadata": {},
     "source": [
      "Checking the main text of the above DOI we make certain that the article stored in `articles[0]` corresponds to the DOI stored in `dois[0]`."
     ]
    },
    {
     "cell_type": "markdown",
     "metadata": {},
     "source": [
      "Let us now load the same corpus as in `articles` but already formatted as a numerical matrix that represents each article (row of the matrix) as a bag of words.\n",
      "We generated this corpus and the corresponding dictionary [earlier](http://georg.io/2014/02/PLOS_Biology_Topics)."
     ]
    },
    {
     "cell_type": "code",
     "collapsed": false,
     "input": [
      "corpus = gensim.corpora.MmCorpus('data/plos_biology_corpus.mm')\n",
      "dictionary = dictionary = gensim.corpora.dictionary.Dictionary().load('data/plos_biology.dict')"
     ],
     "language": "python",
     "metadata": {},
     "outputs": [],
     "prompt_number": 7
    },
    {
     "cell_type": "code",
     "collapsed": false,
     "input": [
      "corpus_mat = gensim.matutils.corpus2csc(corpus)\n",
      "corpus_mat = corpus_mat.T\n",
      "print corpus_mat.shape"
     ],
     "language": "python",
     "metadata": {},
     "outputs": [
      {
       "output_type": "stream",
       "stream": "stdout",
       "text": [
        "(1754, 27210)\n"
       ]
      }
     ],
     "prompt_number": 8
    },
    {
     "cell_type": "code",
     "collapsed": false,
     "input": [
      "svd = decomposition.TruncatedSVD(n_components=2)"
     ],
     "language": "python",
     "metadata": {},
     "outputs": [],
     "prompt_number": 9
    },
    {
     "cell_type": "code",
     "collapsed": false,
     "input": [
      "corpus_mat_transform = svd.fit_transform(corpus_mat)"
     ],
     "language": "python",
     "metadata": {},
     "outputs": [],
     "prompt_number": 10
    },
    {
     "cell_type": "code",
     "collapsed": false,
     "input": [
      "pyplot.scatter(corpus_mat_transform[:,0], corpus_mat_transform[:,1])\n",
      "pyplot.scatter(numpy.median(corpus_mat_transform, axis=0)[0], numpy.median(corpus_mat_transform, axis=1)[1], color='red')"
     ],
     "language": "python",
     "metadata": {},
     "outputs": [
      {
       "metadata": {},
       "output_type": "pyout",
       "prompt_number": 11,
       "text": [
        "<matplotlib.collections.PathCollection at 0x3691fb10>"
       ]
      },
      {
       "metadata": {},
       "output_type": "display_data",
       "png": "[encoded data removed]",
       "text": [
        "<matplotlib.figure.Figure at 0x3691fb50>"
       ]
      }
     ],
     "prompt_number": 11
    },
    {
     "cell_type": "markdown",
     "metadata": {},
     "source": [
      "As we can see there are a few articles that lie relatively far away from the bulk of the corpus.\n",
      "Let's focus on some of these:"
     ]
    },
    {
     "cell_type": "code",
     "collapsed": false,
     "input": [
      "corpus_mat_transform[corpus_mat_transform[:,0]>150]"
     ],
     "language": "python",
     "metadata": {},
     "outputs": [
      {
       "metadata": {},
       "output_type": "pyout",
       "prompt_number": 12,
       "text": [
        "array([[ 188.00372631,  206.98116152],\n",
        "       [ 173.92168158,  149.52950725],\n",
        "       [ 153.28884507,  215.76087149],\n",
        "       [ 162.25142408,  102.5657386 ],\n",
        "       [ 150.9967843 ,  145.03623178]])"
       ]
      }
     ],
     "prompt_number": 12
    },
    {
     "cell_type": "code",
     "collapsed": false,
     "input": [
      "numpy.where(corpus_mat_transform[:,0]>150)"
     ],
     "language": "python",
     "metadata": {},
     "outputs": [
      {
       "metadata": {},
       "output_type": "pyout",
       "prompt_number": 13,
       "text": [
        "(array([  35, 1074, 1109, 1371, 1544]),)"
       ]
      }
     ],
     "prompt_number": 13
    },
    {
     "cell_type": "code",
     "collapsed": false,
     "input": [
      "for index in numpy.where(corpus_mat_transform[:,0]>150)[0]:\n",
      "    print 'http://www.plosbiology.org/article/info:doi/%s' % dois[index]"
     ],
     "language": "python",
     "metadata": {},
     "outputs": [
      {
       "output_type": "stream",
       "stream": "stdout",
       "text": [
        "http://www.plosbiology.org/article/info:doi/10.1371/journal.pbio.1001060\n",
        "http://www.plosbiology.org/article/info:doi/10.1371/journal.pbio.1001657\n",
        "http://www.plosbiology.org/article/info:doi/10.1371/journal.pbio.1001283\n",
        "http://www.plosbiology.org/article/info:doi/10.1371/journal.pbio.1000135\n",
        "http://www.plosbiology.org/article/info:doi/10.1371/journal.pbio.1000373\n"
       ]
      }
     ],
     "prompt_number": 14
    },
    {
     "cell_type": "markdown",
     "metadata": {},
     "source": [
      "The first of these \"outliers\" in the above reduced space is a *Synopsis* articles so it may be understandable why that one sticks out.\n",
      "However, the remaining articles are research articles that all deal with neurobiological topics - so off-hand it is not obvious to me why these would lie a bit further away from the bulk of the articles."
     ]
    }
   ],
   "metadata": {}
  }
 ]
}